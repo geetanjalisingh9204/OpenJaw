{
 "cells": [
  {
   "cell_type": "markdown",
   "metadata": {},
   "source": [
    "# Data Modelling for Departures\n",
    "\n",
    "### Load Libraries\n",
    "Load the libraries"
   ]
  },
  {
   "cell_type": "code",
   "execution_count": 1,
   "metadata": {},
   "outputs": [],
   "source": [
    "import pandas as pd\n",
    "import matplotlib.pyplot as plt\n",
    "import seaborn as sns\n",
    "import numpy as np\n",
    "from sklearn.preprocessing import LabelEncoder\n",
    "from sklearn.model_selection import cross_validate,train_test_split\n",
    "from sklearn.preprocessing import StandardScaler\n",
    "from sklearn.ensemble import RandomForestClassifier\n",
    "from sklearn.metrics import confusion_matrix,accuracy_score,roc_auc_score,roc_curve,recall_score,precision_score\n",
    "from sklearn.model_selection import RandomizedSearchCV\n",
    "from sklearn.metrics import f1_score, make_scorer"
   ]
  },
  {
   "cell_type": "code",
   "execution_count": 2,
   "metadata": {},
   "outputs": [],
   "source": [
    "import warnings\n",
    "warnings.filterwarnings(\"ignore\")"
   ]
  },
  {
   "cell_type": "code",
   "execution_count": 3,
   "metadata": {},
   "outputs": [
    {
     "data": {
      "text/html": [
       "<div>\n",
       "<style scoped>\n",
       "    .dataframe tbody tr th:only-of-type {\n",
       "        vertical-align: middle;\n",
       "    }\n",
       "\n",
       "    .dataframe tbody tr th {\n",
       "        vertical-align: top;\n",
       "    }\n",
       "\n",
       "    .dataframe thead th {\n",
       "        text-align: right;\n",
       "    }\n",
       "</style>\n",
       "<table border=\"1\" class=\"dataframe\">\n",
       "  <thead>\n",
       "    <tr style=\"text-align: right;\">\n",
       "      <th></th>\n",
       "      <th>Unnamed: 0</th>\n",
       "      <th>AIRPORT_IATA</th>\n",
       "      <th>Date</th>\n",
       "      <th>Hour</th>\n",
       "      <th>Wind_direction_imp</th>\n",
       "      <th>Wind_speed_imp</th>\n",
       "      <th>Temperature_imp</th>\n",
       "      <th>Dew_point_imp</th>\n",
       "      <th>Pressure_imp</th>\n",
       "    </tr>\n",
       "  </thead>\n",
       "  <tbody>\n",
       "    <tr>\n",
       "      <th>0</th>\n",
       "      <td>0</td>\n",
       "      <td>LHR</td>\n",
       "      <td>2019-05-18</td>\n",
       "      <td>23</td>\n",
       "      <td>10.0</td>\n",
       "      <td>3.0</td>\n",
       "      <td>11.0</td>\n",
       "      <td>9.0</td>\n",
       "      <td>1009.0</td>\n",
       "    </tr>\n",
       "    <tr>\n",
       "      <th>1</th>\n",
       "      <td>1</td>\n",
       "      <td>LHR</td>\n",
       "      <td>2019-05-18</td>\n",
       "      <td>23</td>\n",
       "      <td>20.0</td>\n",
       "      <td>2.0</td>\n",
       "      <td>10.0</td>\n",
       "      <td>8.0</td>\n",
       "      <td>1009.0</td>\n",
       "    </tr>\n",
       "    <tr>\n",
       "      <th>2</th>\n",
       "      <td>2</td>\n",
       "      <td>LHR</td>\n",
       "      <td>2019-05-18</td>\n",
       "      <td>22</td>\n",
       "      <td>40.0</td>\n",
       "      <td>2.0</td>\n",
       "      <td>12.0</td>\n",
       "      <td>9.0</td>\n",
       "      <td>1009.0</td>\n",
       "    </tr>\n",
       "    <tr>\n",
       "      <th>3</th>\n",
       "      <td>3</td>\n",
       "      <td>LHR</td>\n",
       "      <td>2019-05-18</td>\n",
       "      <td>22</td>\n",
       "      <td>60.0</td>\n",
       "      <td>2.0</td>\n",
       "      <td>12.0</td>\n",
       "      <td>9.0</td>\n",
       "      <td>1008.0</td>\n",
       "    </tr>\n",
       "    <tr>\n",
       "      <th>4</th>\n",
       "      <td>4</td>\n",
       "      <td>LHR</td>\n",
       "      <td>2019-05-18</td>\n",
       "      <td>21</td>\n",
       "      <td>360.0</td>\n",
       "      <td>2.0</td>\n",
       "      <td>13.0</td>\n",
       "      <td>9.0</td>\n",
       "      <td>1008.0</td>\n",
       "    </tr>\n",
       "  </tbody>\n",
       "</table>\n",
       "</div>"
      ],
      "text/plain": [
       "   Unnamed: 0 AIRPORT_IATA        Date  Hour  Wind_direction_imp  \\\n",
       "0           0          LHR  2019-05-18    23                10.0   \n",
       "1           1          LHR  2019-05-18    23                20.0   \n",
       "2           2          LHR  2019-05-18    22                40.0   \n",
       "3           3          LHR  2019-05-18    22                60.0   \n",
       "4           4          LHR  2019-05-18    21               360.0   \n",
       "\n",
       "   Wind_speed_imp  Temperature_imp  Dew_point_imp  Pressure_imp  \n",
       "0             3.0             11.0            9.0        1009.0  \n",
       "1             2.0             10.0            8.0        1009.0  \n",
       "2             2.0             12.0            9.0        1009.0  \n",
       "3             2.0             12.0            9.0        1008.0  \n",
       "4             2.0             13.0            9.0        1008.0  "
      ]
     },
     "execution_count": 3,
     "metadata": {},
     "output_type": "execute_result"
    }
   ],
   "source": [
    "metar_decoded_engineered = pd.read_csv('../data/metar_decoded_engineered.csv')\n",
    "metar_decoded_engineered.head()"
   ]
  },
  {
   "cell_type": "code",
   "execution_count": 4,
   "metadata": {},
   "outputs": [],
   "source": [
    "metar_decoded_engineered = metar_decoded_engineered.drop('Unnamed: 0',axis=1)"
   ]
  },
  {
   "cell_type": "code",
   "execution_count": 5,
   "metadata": {},
   "outputs": [
    {
     "data": {
      "text/plain": [
       "13477"
      ]
     },
     "execution_count": 5,
     "metadata": {},
     "output_type": "execute_result"
    }
   ],
   "source": [
    "len(metar_decoded_engineered)"
   ]
  },
  {
   "cell_type": "code",
   "execution_count": 6,
   "metadata": {},
   "outputs": [
    {
     "data": {
      "text/plain": [
       "8211"
      ]
     },
     "execution_count": 6,
     "metadata": {},
     "output_type": "execute_result"
    }
   ],
   "source": [
    "len(metar_decoded_engineered.groupby(['AIRPORT_IATA','Date','Hour']))"
   ]
  },
  {
   "cell_type": "code",
   "execution_count": 7,
   "metadata": {},
   "outputs": [],
   "source": [
    "weather_parameters_mean = pd.DataFrame({\n",
    "    'Wind_direction' : metar_decoded_engineered.groupby(['AIRPORT_IATA','Date','Hour'])['Wind_direction_imp'].mean(),\n",
    "    'Wind_speed' : metar_decoded_engineered.groupby(['AIRPORT_IATA','Date','Hour'])['Wind_speed_imp'].mean(),\n",
    "    'Temperature' : metar_decoded_engineered.groupby(['AIRPORT_IATA','Date','Hour'])['Temperature_imp'].mean(),\n",
    "    'Dew_point' : metar_decoded_engineered.groupby(['AIRPORT_IATA','Date','Hour'])['Dew_point_imp'].mean(),\n",
    "    'Pressure' : metar_decoded_engineered.groupby(['AIRPORT_IATA','Date','Hour'])['Pressure_imp'].mean()}).reset_index()"
   ]
  },
  {
   "cell_type": "code",
   "execution_count": 8,
   "metadata": {},
   "outputs": [],
   "source": [
    "departures_extended = pd.read_csv('../data/departures_extended_egineered.csv')"
   ]
  },
  {
   "cell_type": "code",
   "execution_count": 9,
   "metadata": {},
   "outputs": [
    {
     "data": {
      "text/html": [
       "<div>\n",
       "<style scoped>\n",
       "    .dataframe tbody tr th:only-of-type {\n",
       "        vertical-align: middle;\n",
       "    }\n",
       "\n",
       "    .dataframe tbody tr th {\n",
       "        vertical-align: top;\n",
       "    }\n",
       "\n",
       "    .dataframe thead th {\n",
       "        text-align: right;\n",
       "    }\n",
       "</style>\n",
       "<table border=\"1\" class=\"dataframe\">\n",
       "  <thead>\n",
       "    <tr style=\"text-align: right;\">\n",
       "      <th></th>\n",
       "      <th>Unnamed: 0</th>\n",
       "      <th>index</th>\n",
       "      <th>mode</th>\n",
       "      <th>flight_number</th>\n",
       "      <th>airline_name</th>\n",
       "      <th>airline_iata</th>\n",
       "      <th>flight_origin_code_iata</th>\n",
       "      <th>flight_origin_name</th>\n",
       "      <th>flight_destination_code_iata</th>\n",
       "      <th>flight_destination_name</th>\n",
       "      <th>...</th>\n",
       "      <th>Hour_arrivals</th>\n",
       "      <th>Date_arrivals</th>\n",
       "      <th>AIRPORT_IATA</th>\n",
       "      <th>Date</th>\n",
       "      <th>Hour</th>\n",
       "      <th>Wind_direction</th>\n",
       "      <th>Wind_speed</th>\n",
       "      <th>Temperature</th>\n",
       "      <th>Dew_point</th>\n",
       "      <th>Pressure</th>\n",
       "    </tr>\n",
       "  </thead>\n",
       "  <tbody>\n",
       "    <tr>\n",
       "      <th>0</th>\n",
       "      <td>0</td>\n",
       "      <td>145495</td>\n",
       "      <td>departures</td>\n",
       "      <td>AF1081</td>\n",
       "      <td>Air France</td>\n",
       "      <td>AF</td>\n",
       "      <td>LHR</td>\n",
       "      <td>London Heathrow Airport</td>\n",
       "      <td>CDG</td>\n",
       "      <td>Paris Charles de Gaulle Airport</td>\n",
       "      <td>...</td>\n",
       "      <td>7</td>\n",
       "      <td>2019-05-20</td>\n",
       "      <td>LHR</td>\n",
       "      <td>2019-05-20</td>\n",
       "      <td>6</td>\n",
       "      <td>335.0</td>\n",
       "      <td>4.5</td>\n",
       "      <td>13.0</td>\n",
       "      <td>11.0</td>\n",
       "      <td>1012.0</td>\n",
       "    </tr>\n",
       "    <tr>\n",
       "      <th>1</th>\n",
       "      <td>1</td>\n",
       "      <td>145496</td>\n",
       "      <td>departures</td>\n",
       "      <td>BA472</td>\n",
       "      <td>British Airways</td>\n",
       "      <td>BA</td>\n",
       "      <td>LHR</td>\n",
       "      <td>London Heathrow Airport</td>\n",
       "      <td>BCN</td>\n",
       "      <td>Barcelona El Prat Airport</td>\n",
       "      <td>...</td>\n",
       "      <td>8</td>\n",
       "      <td>2019-05-20</td>\n",
       "      <td>LHR</td>\n",
       "      <td>2019-05-20</td>\n",
       "      <td>6</td>\n",
       "      <td>335.0</td>\n",
       "      <td>4.5</td>\n",
       "      <td>13.0</td>\n",
       "      <td>11.0</td>\n",
       "      <td>1012.0</td>\n",
       "    </tr>\n",
       "    <tr>\n",
       "      <th>2</th>\n",
       "      <td>2</td>\n",
       "      <td>145497</td>\n",
       "      <td>departures</td>\n",
       "      <td>TP1363</td>\n",
       "      <td>TAP Air Portugal</td>\n",
       "      <td>TP</td>\n",
       "      <td>LHR</td>\n",
       "      <td>London Heathrow Airport</td>\n",
       "      <td>LIS</td>\n",
       "      <td>Lisbon Humberto Delgado Airport</td>\n",
       "      <td>...</td>\n",
       "      <td>8</td>\n",
       "      <td>2019-05-20</td>\n",
       "      <td>LHR</td>\n",
       "      <td>2019-05-20</td>\n",
       "      <td>6</td>\n",
       "      <td>335.0</td>\n",
       "      <td>4.5</td>\n",
       "      <td>13.0</td>\n",
       "      <td>11.0</td>\n",
       "      <td>1012.0</td>\n",
       "    </tr>\n",
       "    <tr>\n",
       "      <th>3</th>\n",
       "      <td>3</td>\n",
       "      <td>145498</td>\n",
       "      <td>departures</td>\n",
       "      <td>OS458</td>\n",
       "      <td>Austrian Airlines</td>\n",
       "      <td>OS</td>\n",
       "      <td>LHR</td>\n",
       "      <td>London Heathrow Airport</td>\n",
       "      <td>VIE</td>\n",
       "      <td>Vienna International Airport</td>\n",
       "      <td>...</td>\n",
       "      <td>8</td>\n",
       "      <td>2019-05-20</td>\n",
       "      <td>LHR</td>\n",
       "      <td>2019-05-20</td>\n",
       "      <td>6</td>\n",
       "      <td>335.0</td>\n",
       "      <td>4.5</td>\n",
       "      <td>13.0</td>\n",
       "      <td>11.0</td>\n",
       "      <td>1012.0</td>\n",
       "    </tr>\n",
       "    <tr>\n",
       "      <th>4</th>\n",
       "      <td>4</td>\n",
       "      <td>145499</td>\n",
       "      <td>departures</td>\n",
       "      <td>LX345</td>\n",
       "      <td>Swiss</td>\n",
       "      <td>LX</td>\n",
       "      <td>LHR</td>\n",
       "      <td>London Heathrow Airport</td>\n",
       "      <td>ZRH</td>\n",
       "      <td>Zurich Airport</td>\n",
       "      <td>...</td>\n",
       "      <td>7</td>\n",
       "      <td>2019-05-20</td>\n",
       "      <td>LHR</td>\n",
       "      <td>2019-05-20</td>\n",
       "      <td>6</td>\n",
       "      <td>335.0</td>\n",
       "      <td>4.5</td>\n",
       "      <td>13.0</td>\n",
       "      <td>11.0</td>\n",
       "      <td>1012.0</td>\n",
       "    </tr>\n",
       "  </tbody>\n",
       "</table>\n",
       "<p>5 rows × 28 columns</p>\n",
       "</div>"
      ],
      "text/plain": [
       "   Unnamed: 0   index        mode flight_number       airline_name  \\\n",
       "0           0  145495  departures        AF1081         Air France   \n",
       "1           1  145496  departures         BA472    British Airways   \n",
       "2           2  145497  departures        TP1363   TAP Air Portugal   \n",
       "3           3  145498  departures         OS458  Austrian Airlines   \n",
       "4           4  145499  departures         LX345              Swiss   \n",
       "\n",
       "  airline_iata flight_origin_code_iata       flight_origin_name  \\\n",
       "0           AF                     LHR  London Heathrow Airport   \n",
       "1           BA                     LHR  London Heathrow Airport   \n",
       "2           TP                     LHR  London Heathrow Airport   \n",
       "3           OS                     LHR  London Heathrow Airport   \n",
       "4           LX                     LHR  London Heathrow Airport   \n",
       "\n",
       "  flight_destination_code_iata          flight_destination_name  ...  \\\n",
       "0                          CDG  Paris Charles de Gaulle Airport  ...   \n",
       "1                          BCN        Barcelona El Prat Airport  ...   \n",
       "2                          LIS  Lisbon Humberto Delgado Airport  ...   \n",
       "3                          VIE     Vienna International Airport  ...   \n",
       "4                          ZRH                   Zurich Airport  ...   \n",
       "\n",
       "   Hour_arrivals  Date_arrivals  AIRPORT_IATA        Date  Hour  \\\n",
       "0              7     2019-05-20           LHR  2019-05-20     6   \n",
       "1              8     2019-05-20           LHR  2019-05-20     6   \n",
       "2              8     2019-05-20           LHR  2019-05-20     6   \n",
       "3              8     2019-05-20           LHR  2019-05-20     6   \n",
       "4              7     2019-05-20           LHR  2019-05-20     6   \n",
       "\n",
       "  Wind_direction  Wind_speed Temperature  Dew_point Pressure  \n",
       "0          335.0         4.5        13.0       11.0   1012.0  \n",
       "1          335.0         4.5        13.0       11.0   1012.0  \n",
       "2          335.0         4.5        13.0       11.0   1012.0  \n",
       "3          335.0         4.5        13.0       11.0   1012.0  \n",
       "4          335.0         4.5        13.0       11.0   1012.0  \n",
       "\n",
       "[5 rows x 28 columns]"
      ]
     },
     "execution_count": 9,
     "metadata": {},
     "output_type": "execute_result"
    }
   ],
   "source": [
    "departure_merge = pd.merge(departures_extended, weather_parameters_mean, how='inner', left_on=['flight_origin_code_iata','Date_departures','Hour_departures'], right_on=['AIRPORT_IATA','Date','Hour'])\n",
    "departure_merge.head()"
   ]
  },
  {
   "cell_type": "code",
   "execution_count": 10,
   "metadata": {},
   "outputs": [
    {
     "data": {
      "text/plain": [
       "Unnamed: 0                           0\n",
       "index                                0\n",
       "mode                                 0\n",
       "flight_number                        0\n",
       "airline_name                         0\n",
       "airline_iata                         0\n",
       "flight_origin_code_iata              0\n",
       "flight_origin_name                   0\n",
       "flight_destination_code_iata         0\n",
       "flight_destination_name              0\n",
       "flight_departure_scheduled           0\n",
       "flight_departure_real             5281\n",
       "flight_arrival_scheduled             0\n",
       "flight_arrival_real              10045\n",
       "flight_duaration                121048\n",
       "target                               0\n",
       "Hour_departures                      0\n",
       "Date_departures                      0\n",
       "Hour_arrivals                        0\n",
       "Date_arrivals                        0\n",
       "AIRPORT_IATA                         0\n",
       "Date                                 0\n",
       "Hour                                 0\n",
       "Wind_direction                       0\n",
       "Wind_speed                           0\n",
       "Temperature                          0\n",
       "Dew_point                            0\n",
       "Pressure                             0\n",
       "dtype: int64"
      ]
     },
     "execution_count": 10,
     "metadata": {},
     "output_type": "execute_result"
    }
   ],
   "source": [
    "departure_merge.isnull().sum()"
   ]
  },
  {
   "cell_type": "code",
   "execution_count": 11,
   "metadata": {},
   "outputs": [],
   "source": [
    "departure_merge.fillna(0, inplace=True)"
   ]
  },
  {
   "cell_type": "code",
   "execution_count": 12,
   "metadata": {},
   "outputs": [
    {
     "name": "stdout",
     "output_type": "stream",
     "text": [
      "<class 'pandas.core.frame.DataFrame'>\n",
      "Int64Index: 121048 entries, 0 to 121047\n",
      "Data columns (total 24 columns):\n",
      "flight_number                   121048 non-null object\n",
      "airline_name                    121048 non-null object\n",
      "airline_iata                    121048 non-null object\n",
      "flight_origin_code_iata         121048 non-null object\n",
      "flight_origin_name              121048 non-null object\n",
      "flight_destination_code_iata    121048 non-null object\n",
      "flight_destination_name         121048 non-null object\n",
      "flight_departure_scheduled      121048 non-null int64\n",
      "flight_departure_real           121048 non-null float64\n",
      "flight_arrival_scheduled        121048 non-null int64\n",
      "flight_arrival_real             121048 non-null float64\n",
      "target                          121048 non-null object\n",
      "Hour_departures                 121048 non-null int64\n",
      "Date_departures                 121048 non-null object\n",
      "Hour_arrivals                   121048 non-null int64\n",
      "Date_arrivals                   121048 non-null object\n",
      "AIRPORT_IATA                    121048 non-null object\n",
      "Date                            121048 non-null object\n",
      "Hour                            121048 non-null int64\n",
      "Wind_direction                  121048 non-null float64\n",
      "Wind_speed                      121048 non-null float64\n",
      "Temperature                     121048 non-null float64\n",
      "Dew_point                       121048 non-null float64\n",
      "Pressure                        121048 non-null float64\n",
      "dtypes: float64(7), int64(5), object(12)\n",
      "memory usage: 23.1+ MB\n"
     ]
    }
   ],
   "source": [
    "departure_merge = departure_merge.drop(['Unnamed: 0','index', 'mode', 'flight_duaration'],axis=1)\n",
    "departure_merge.info()"
   ]
  },
  {
   "cell_type": "code",
   "execution_count": 13,
   "metadata": {},
   "outputs": [
    {
     "data": {
      "text/html": [
       "<div>\n",
       "<style scoped>\n",
       "    .dataframe tbody tr th:only-of-type {\n",
       "        vertical-align: middle;\n",
       "    }\n",
       "\n",
       "    .dataframe tbody tr th {\n",
       "        vertical-align: top;\n",
       "    }\n",
       "\n",
       "    .dataframe thead th {\n",
       "        text-align: right;\n",
       "    }\n",
       "</style>\n",
       "<table border=\"1\" class=\"dataframe\">\n",
       "  <thead>\n",
       "    <tr style=\"text-align: right;\">\n",
       "      <th></th>\n",
       "      <th>Wind_direction</th>\n",
       "      <th>Wind_speed</th>\n",
       "      <th>Temperature</th>\n",
       "      <th>Dew_point</th>\n",
       "      <th>Pressure</th>\n",
       "      <th>Hour</th>\n",
       "    </tr>\n",
       "  </thead>\n",
       "  <tbody>\n",
       "    <tr>\n",
       "      <th>Wind_direction</th>\n",
       "      <td>1.000000</td>\n",
       "      <td>0.246540</td>\n",
       "      <td>-0.278961</td>\n",
       "      <td>-0.407380</td>\n",
       "      <td>0.140307</td>\n",
       "      <td>-0.006001</td>\n",
       "    </tr>\n",
       "    <tr>\n",
       "      <th>Wind_speed</th>\n",
       "      <td>0.246540</td>\n",
       "      <td>1.000000</td>\n",
       "      <td>0.048730</td>\n",
       "      <td>-0.130432</td>\n",
       "      <td>-0.198261</td>\n",
       "      <td>0.059486</td>\n",
       "    </tr>\n",
       "    <tr>\n",
       "      <th>Temperature</th>\n",
       "      <td>-0.278961</td>\n",
       "      <td>0.048730</td>\n",
       "      <td>1.000000</td>\n",
       "      <td>0.488833</td>\n",
       "      <td>-0.164663</td>\n",
       "      <td>0.145337</td>\n",
       "    </tr>\n",
       "    <tr>\n",
       "      <th>Dew_point</th>\n",
       "      <td>-0.407380</td>\n",
       "      <td>-0.130432</td>\n",
       "      <td>0.488833</td>\n",
       "      <td>1.000000</td>\n",
       "      <td>-0.237712</td>\n",
       "      <td>0.016947</td>\n",
       "    </tr>\n",
       "    <tr>\n",
       "      <th>Pressure</th>\n",
       "      <td>0.140307</td>\n",
       "      <td>-0.198261</td>\n",
       "      <td>-0.164663</td>\n",
       "      <td>-0.237712</td>\n",
       "      <td>1.000000</td>\n",
       "      <td>-0.027719</td>\n",
       "    </tr>\n",
       "    <tr>\n",
       "      <th>Hour</th>\n",
       "      <td>-0.006001</td>\n",
       "      <td>0.059486</td>\n",
       "      <td>0.145337</td>\n",
       "      <td>0.016947</td>\n",
       "      <td>-0.027719</td>\n",
       "      <td>1.000000</td>\n",
       "    </tr>\n",
       "  </tbody>\n",
       "</table>\n",
       "</div>"
      ],
      "text/plain": [
       "                Wind_direction  Wind_speed  Temperature  Dew_point  Pressure  \\\n",
       "Wind_direction        1.000000    0.246540    -0.278961  -0.407380  0.140307   \n",
       "Wind_speed            0.246540    1.000000     0.048730  -0.130432 -0.198261   \n",
       "Temperature          -0.278961    0.048730     1.000000   0.488833 -0.164663   \n",
       "Dew_point            -0.407380   -0.130432     0.488833   1.000000 -0.237712   \n",
       "Pressure              0.140307   -0.198261    -0.164663  -0.237712  1.000000   \n",
       "Hour                 -0.006001    0.059486     0.145337   0.016947 -0.027719   \n",
       "\n",
       "                    Hour  \n",
       "Wind_direction -0.006001  \n",
       "Wind_speed      0.059486  \n",
       "Temperature     0.145337  \n",
       "Dew_point       0.016947  \n",
       "Pressure       -0.027719  \n",
       "Hour            1.000000  "
      ]
     },
     "execution_count": 13,
     "metadata": {},
     "output_type": "execute_result"
    }
   ],
   "source": [
    "departure_merge[['Wind_direction','Wind_speed','Temperature','Dew_point','Pressure','Hour']].corr()"
   ]
  },
  {
   "cell_type": "code",
   "execution_count": 14,
   "metadata": {},
   "outputs": [
    {
     "data": {
      "text/plain": [
       "<matplotlib.axes._subplots.AxesSubplot at 0x12a5ed1d0>"
      ]
     },
     "execution_count": 14,
     "metadata": {},
     "output_type": "execute_result"
    },
    {
     "data": {
      "image/png": "[encoded data removed]",
      "text/plain": [
       "<Figure size 432x288 with 1 Axes>"
      ]
     },
     "metadata": {
      "needs_background": "light"
     },
     "output_type": "display_data"
    }
   ],
   "source": [
    "sns.boxplot(x=\"target\",y=\"Wind_direction\",data=departure_merge)"
   ]
  },
  {
   "cell_type": "code",
   "execution_count": 15,
   "metadata": {},
   "outputs": [
    {
     "data": {
      "text/plain": [
       "<matplotlib.axes._subplots.AxesSubplot at 0x125a7d7d0>"
      ]
     },
     "execution_count": 15,
     "metadata": {},
     "output_type": "execute_result"
    },
    {
     "data": {
      "image/png": "[encoded data removed]",
      "text/plain": [
       "<Figure size 432x288 with 1 Axes>"
      ]
     },
     "metadata": {
      "needs_background": "light"
     },
     "output_type": "display_data"
    }
   ],
   "source": [
    "sns.boxplot(x=\"target\",y=\"Wind_speed\",data=departure_merge)"
   ]
  },
  {
   "cell_type": "code",
   "execution_count": 16,
   "metadata": {},
   "outputs": [
    {
     "data": {
      "text/plain": [
       "<matplotlib.axes._subplots.AxesSubplot at 0x12669e710>"
      ]
     },
     "execution_count": 16,
     "metadata": {},
     "output_type": "execute_result"
    },
    {
     "data": {
      "image/png": "[encoded data removed]",
      "text/plain": [
       "<Figure size 432x288 with 1 Axes>"
      ]
     },
     "metadata": {
      "needs_background": "light"
     },
     "output_type": "display_data"
    }
   ],
   "source": [
    "sns.boxplot(x=\"target\",y=\"Temperature\",data=departure_merge)"
   ]
  },
  {
   "cell_type": "code",
   "execution_count": 17,
   "metadata": {},
   "outputs": [
    {
     "data": {
      "text/plain": [
       "<matplotlib.axes._subplots.AxesSubplot at 0x1269a2790>"
      ]
     },
     "execution_count": 17,
     "metadata": {},
     "output_type": "execute_result"
    },
    {
     "data": {
      "image/png": "[encoded data removed]",
      "text/plain": [
       "<Figure size 432x288 with 1 Axes>"
      ]
     },
     "metadata": {
      "needs_background": "light"
     },
     "output_type": "display_data"
    }
   ],
   "source": [
    "sns.boxplot(x=\"target\",y=\"Dew_point\",data=departure_merge)"
   ]
  },
  {
   "cell_type": "code",
   "execution_count": 18,
   "metadata": {},
   "outputs": [
    {
     "data": {
      "text/plain": [
       "<matplotlib.axes._subplots.AxesSubplot at 0x126c94ed0>"
      ]
     },
     "execution_count": 18,
     "metadata": {},
     "output_type": "execute_result"
    },
    {
     "data": {
      "image/png": "[encoded data removed]",
      "text/plain": [
       "<Figure size 432x288 with 1 Axes>"
      ]
     },
     "metadata": {
      "needs_background": "light"
     },
     "output_type": "display_data"
    }
   ],
   "source": [
    "sns.boxplot(x=\"target\",y=\"Pressure\",data=departure_merge)"
   ]
  },
  {
   "cell_type": "code",
   "execution_count": 19,
   "metadata": {},
   "outputs": [
    {
     "data": {
      "text/plain": [
       "<matplotlib.axes._subplots.AxesSubplot at 0x126e90c90>"
      ]
     },
     "execution_count": 19,
     "metadata": {},
     "output_type": "execute_result"
    },
    {
     "data": {
      "image/png": "[encoded data removed]",
      "text/plain": [
       "<Figure size 432x288 with 1 Axes>"
      ]
     },
     "metadata": {
      "needs_background": "light"
     },
     "output_type": "display_data"
    }
   ],
   "source": [
    "sns.boxplot(x=\"target\",y=\"Hour\",data=departure_merge)"
   ]
  },
  {
   "cell_type": "code",
   "execution_count": 20,
   "metadata": {},
   "outputs": [],
   "source": [
    "catg_encod = LabelEncoder()\n",
    "departure_merge[\"airline_name_catg\"] = catg_encod.fit_transform(departure_merge[\"airline_name\"])\n",
    "departure_merge[\"flight_origin_name_catg\"] = catg_encod.fit_transform(departure_merge[\"flight_origin_name\"])\n",
    "departure_merge[\"flight_destination_name_catg\"] = catg_encod.fit_transform(departure_merge[\"flight_destination_name\"])"
   ]
  },
  {
   "cell_type": "code",
   "execution_count": 21,
   "metadata": {},
   "outputs": [
    {
     "name": "stdout",
     "output_type": "stream",
     "text": [
      "<class 'pandas.core.frame.DataFrame'>\n",
      "Int64Index: 121048 entries, 0 to 121047\n",
      "Data columns (total 27 columns):\n",
      "flight_number                   121048 non-null object\n",
      "airline_name                    121048 non-null object\n",
      "airline_iata                    121048 non-null object\n",
      "flight_origin_code_iata         121048 non-null object\n",
      "flight_origin_name              121048 non-null object\n",
      "flight_destination_code_iata    121048 non-null object\n",
      "flight_destination_name         121048 non-null object\n",
      "flight_departure_scheduled      121048 non-null int64\n",
      "flight_departure_real           121048 non-null float64\n",
      "flight_arrival_scheduled        121048 non-null int64\n",
      "flight_arrival_real             121048 non-null float64\n",
      "target                          121048 non-null object\n",
      "Hour_departures                 121048 non-null int64\n",
      "Date_departures                 121048 non-null object\n",
      "Hour_arrivals                   121048 non-null int64\n",
      "Date_arrivals                   121048 non-null object\n",
      "AIRPORT_IATA                    121048 non-null object\n",
      "Date                            121048 non-null object\n",
      "Hour                            121048 non-null int64\n",
      "Wind_direction                  121048 non-null float64\n",
      "Wind_speed                      121048 non-null float64\n",
      "Temperature                     121048 non-null float64\n",
      "Dew_point                       121048 non-null float64\n",
      "Pressure                        121048 non-null float64\n",
      "airline_name_catg               121048 non-null int64\n",
      "flight_origin_name_catg         121048 non-null int64\n",
      "flight_destination_name_catg    121048 non-null int64\n",
      "dtypes: float64(7), int64(8), object(12)\n",
      "memory usage: 30.9+ MB\n"
     ]
    }
   ],
   "source": [
    "departure_merge.info()"
   ]
  },
  {
   "cell_type": "code",
   "execution_count": 22,
   "metadata": {},
   "outputs": [],
   "source": [
    "clf = RandomForestClassifier(n_estimators=150, max_depth=30,random_state=0)\n",
    "model = clf.fit(departure_merge[['airline_name_catg','flight_origin_name_catg','flight_destination_name_catg','Wind_direction', 'Wind_speed', 'Temperature',\n",
    "                       'Dew_point', 'Pressure', 'Hour']], departure_merge['target'])"
   ]
  },
  {
   "cell_type": "code",
   "execution_count": 23,
   "metadata": {},
   "outputs": [],
   "source": [
    "pred = clf.predict(departure_merge[['airline_name_catg','flight_origin_name_catg','flight_destination_name_catg','Wind_direction', 'Wind_speed', 'Temperature',\n",
    "                       'Dew_point', 'Pressure', 'Hour']])"
   ]
  },
  {
   "cell_type": "code",
   "execution_count": 24,
   "metadata": {},
   "outputs": [
    {
     "data": {
      "text/plain": [
       "array([[  4881,    331,      1],\n",
       "       [    53, 113971,      5],\n",
       "       [     3,     54,   1749]])"
      ]
     },
     "execution_count": 24,
     "metadata": {},
     "output_type": "execute_result"
    }
   ],
   "source": [
    "confusion_matrix(departure_merge['target'],pred)"
   ]
  },
  {
   "cell_type": "code",
   "execution_count": 25,
   "metadata": {},
   "outputs": [],
   "source": [
    "X_train, X_test, y_train, y_test = train_test_split(departure_merge[['airline_name_catg','flight_origin_name_catg','flight_destination_name_catg','Wind_direction', 'Wind_speed', 'Temperature',\n",
    "                                                                   'Dew_point', 'Pressure', 'Hour']], departure_merge['target']\n",
    "                                                    , test_size=0.20, random_state=35)"
   ]
  },
  {
   "cell_type": "code",
   "execution_count": 26,
   "metadata": {},
   "outputs": [],
   "source": [
    "# Feature Scaling\n",
    "scaler = StandardScaler()\n",
    "X_train = scaler.fit_transform(X_train)\n",
    "X_test = scaler.transform(X_test)"
   ]
  },
  {
   "cell_type": "markdown",
   "metadata": {},
   "source": [
    "### Tuning Random Forest Classifier  "
   ]
  },
  {
   "cell_type": "code",
   "execution_count": 27,
   "metadata": {},
   "outputs": [],
   "source": [
    "# Creating the parameters list \n",
    "param_dist = {\"max_depth\": [3, 5,10,15,20],\n",
    "              \"max_features\": [2,4],\n",
    "              \"min_samples_split\": [10, 100, 500],\n",
    "              \"bootstrap\": [True, False],\n",
    "              \"n_estimators\": [10, 20, 30, 50, 100, 200],\n",
    "              \"criterion\": [\"gini\", \"entropy\"]}\n",
    "\n",
    "# Initialize the classifier\n",
    "clf = RandomForestClassifier(random_state=42)\n",
    "\n",
    "# Make an f1 scoring function using 'make_scorer' \n",
    "f1_scorer = make_scorer(f1_score,average='weighted')\n",
    "\n",
    "# Perform random search on the classifier using the f1_scorer as the scoring method\n",
    "random_obj = RandomizedSearchCV(clf, scoring=f1_scorer, param_distributions=param_dist, cv=5)\n",
    "\n",
    "# Fit the random search object to the training data and find the optimal parameters\n",
    "random_obj = random_obj.fit(X_train,y_train)"
   ]
  },
  {
   "cell_type": "code",
   "execution_count": 28,
   "metadata": {},
   "outputs": [
    {
     "name": "stdout",
     "output_type": "stream",
     "text": [
      "{'n_estimators': 10, 'min_samples_split': 10, 'max_features': 4, 'max_depth': 20, 'criterion': 'gini', 'bootstrap': False}\n"
     ]
    }
   ],
   "source": [
    "# Get the estimator\n",
    "clf = random_obj.best_estimator_\n",
    "print(random_obj.best_params_)"
   ]
  },
  {
   "cell_type": "code",
   "execution_count": 29,
   "metadata": {},
   "outputs": [
    {
     "name": "stdout",
     "output_type": "stream",
     "text": [
      "F1 score for test set: 0.9356\n",
      "Accuracy for test set: 0.9491\n"
     ]
    }
   ],
   "source": [
    "# Prediction for testing set\n",
    "y_pred = clf.predict(X_test)\n",
    "    \n",
    "# Print the results of prediction for testing set\n",
    "print(\"F1 score for test set: {:.4f}\".format((f1_score(y_test, y_pred, average='weighted'))))\n",
    "print(\"Accuracy for test set: {:.4f}\".format((np.mean(y_test == y_pred))))"
   ]
  },
  {
   "cell_type": "markdown",
   "metadata": {},
   "source": [
    "### Accuracy for individual classes"
   ]
  },
  {
   "cell_type": "code",
   "execution_count": 30,
   "metadata": {},
   "outputs": [
    {
     "data": {
      "text/plain": [
       "array([[   15,   319,     8],\n",
       "       [   16, 22682,   121],\n",
       "       [    2,   767,   280]])"
      ]
     },
     "execution_count": 30,
     "metadata": {},
     "output_type": "execute_result"
    }
   ],
   "source": [
    "confusion_matrix(y_test, y_pred, labels=['neither delay nor cancel', 'delay', 'cancel'])"
   ]
  },
  {
   "cell_type": "code",
   "execution_count": 31,
   "metadata": {},
   "outputs": [],
   "source": [
    "test_label = pd.DataFrame(y_test)\n",
    "test_label['target predicted'] = y_pred"
   ]
  },
  {
   "cell_type": "code",
   "execution_count": 32,
   "metadata": {},
   "outputs": [
    {
     "name": "stdout",
     "output_type": "stream",
     "text": [
      "Accuracy for cancel: 0.2669\n"
     ]
    }
   ],
   "source": [
    "test_label_cancel = test_label[test_label.target == 'cancel']\n",
    "print(\"Accuracy for cancel: {:.4f}\".format((np.mean(test_label_cancel.target == test_label_cancel['target predicted']))))"
   ]
  },
  {
   "cell_type": "code",
   "execution_count": 33,
   "metadata": {},
   "outputs": [
    {
     "name": "stdout",
     "output_type": "stream",
     "text": [
      "Accuracy for delay: 0.9940\n"
     ]
    }
   ],
   "source": [
    "test_label_delay = test_label[test_label.target == 'delay']\n",
    "print(\"Accuracy for delay: {:.4f}\".format((np.mean(test_label_delay.target == test_label_delay['target predicted']))))"
   ]
  },
  {
   "cell_type": "code",
   "execution_count": 34,
   "metadata": {},
   "outputs": [
    {
     "name": "stdout",
     "output_type": "stream",
     "text": [
      "Accuracy for neither delay nor cancel: 0.0439\n"
     ]
    }
   ],
   "source": [
    "test_label_neither = test_label[test_label.target == 'neither delay nor cancel']\n",
    "print(\"Accuracy for neither delay nor cancel: {:.4f}\".format((np.mean(test_label_neither.target == test_label_neither['target predicted']))))"
   ]
  },
  {
   "cell_type": "code",
   "execution_count": null,
   "metadata": {},
   "outputs": [],
   "source": []
  }
 ],
 "metadata": {
  "kernelspec": {
   "display_name": "Python 3",
   "language": "python",
   "name": "python3"
  },
  "language_info": {
   "codemirror_mode": {
    "name": "ipython",
    "version": 3
   },
   "file_extension": ".py",
   "mimetype": "text/x-python",
   "name": "python",
   "nbconvert_exporter": "python",
   "pygments_lexer": "ipython3",
   "version": "3.7.6"
  }
 },
 "nbformat": 4,
 "nbformat_minor": 2
}
